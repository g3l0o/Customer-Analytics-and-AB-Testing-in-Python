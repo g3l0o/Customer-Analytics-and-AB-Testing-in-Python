{
 "cells": [
  {
   "cell_type": "markdown",
   "metadata": {},
   "source": [
    "# Exploring & Visualizing Customer Behavior\n",
    "\n",
    "## Working with Time Series Data\n",
    "\n",
    "- Using the Timedelta class\n"
   ]
  },
  {
   "cell_type": "code",
   "execution_count": 1,
   "metadata": {},
   "outputs": [
    {
     "name": "stdout",
     "output_type": "stream",
     "text": [
      "<class 'pandas.core.frame.DataFrame'>\n",
      "RangeIndex: 10000 entries, 0 to 9999\n",
      "Data columns (total 6 columns):\n",
      " #   Column    Non-Null Count  Dtype  \n",
      "---  ------    --------------  -----  \n",
      " 0   uid       10000 non-null  float64\n",
      " 1   reg_date  10000 non-null  object \n",
      " 2   device    10000 non-null  object \n",
      " 3   gender    10000 non-null  object \n",
      " 4   country   10000 non-null  object \n",
      " 5   age       10000 non-null  int64  \n",
      "dtypes: float64(1), int64(1), object(4)\n",
      "memory usage: 468.9+ KB\n",
      "<class 'pandas.core.frame.DataFrame'>\n",
      "RangeIndex: 9006 entries, 0 to 9005\n",
      "Data columns (total 4 columns):\n",
      " #   Column  Non-Null Count  Dtype \n",
      "---  ------  --------------  ----- \n",
      " 0   date    9006 non-null   object\n",
      " 1   uid     9006 non-null   int64 \n",
      " 2   sku     9006 non-null   object\n",
      " 3   price   9006 non-null   int64 \n",
      "dtypes: int64(2), object(2)\n",
      "memory usage: 281.6+ KB\n"
     ]
    }
   ],
   "source": [
    "import pandas as pd\n",
    "from datetime import timedelta\n",
    "\n",
    "customer_data = pd.read_csv(\"./datasets/user_demographics_v1.csv\")\n",
    "app_purchases = pd.read_csv(\"./datasets/purchase_data_v1.csv\")\n",
    "\n",
    "customer_data.info()\n",
    "app_purchases.info()"
   ]
  },
  {
   "cell_type": "markdown",
   "metadata": {},
   "source": [
    "**Timedelta class**"
   ]
  },
  {
   "cell_type": "code",
   "execution_count": 2,
   "metadata": {},
   "outputs": [
    {
     "name": "stdout",
     "output_type": "stream",
     "text": [
      "2018-03-03 00:00:00\n"
     ]
    }
   ],
   "source": [
    "current_date = pd.to_datetime('2018-03-17')\n",
    "max_lapse_date = current_date - timedelta(days=14)\n",
    "\n",
    "print(max_lapse_date)"
   ]
  },
  {
   "cell_type": "markdown",
   "metadata": {},
   "source": [
    "**Parsing dates on import**"
   ]
  },
  {
   "cell_type": "code",
   "execution_count": 3,
   "metadata": {},
   "outputs": [
    {
     "name": "stdout",
     "output_type": "stream",
     "text": [
      "<class 'pandas.core.frame.DataFrame'>\n",
      "RangeIndex: 10000 entries, 0 to 9999\n",
      "Data columns (total 6 columns):\n",
      " #   Column    Non-Null Count  Dtype  \n",
      "---  ------    --------------  -----  \n",
      " 0   uid       10000 non-null  float64\n",
      " 1   reg_date  10000 non-null  object \n",
      " 2   device    10000 non-null  object \n",
      " 3   gender    10000 non-null  object \n",
      " 4   country   10000 non-null  object \n",
      " 5   age       10000 non-null  int64  \n",
      "dtypes: float64(1), int64(1), object(4)\n",
      "memory usage: 468.9+ KB\n"
     ]
    }
   ],
   "source": [
    "customer_demographics = pd.read_csv('./datasets/user_demographics_v1.csv', parse_dates = True, infer_datetime_format = True)\n",
    "\n",
    "customer_demographics.info()"
   ]
  },
  {
   "cell_type": "markdown",
   "metadata": {},
   "source": [
    "**Excercises**\n",
    "\n",
    "Datetime reference link http://strftime.org/\n"
   ]
  },
  {
   "cell_type": "code",
   "execution_count": 4,
   "metadata": {},
   "outputs": [
    {
     "name": "stdout",
     "output_type": "stream",
     "text": [
      "DatetimeIndex(['2017-01-27', '2017-12-02'], dtype='datetime64[ns]', freq=None)\n"
     ]
    }
   ],
   "source": [
    "date_data_one = ['Saturday January 27, 2017', 'Saturday December 2, 2017']\n",
    "# Provide the correct format for the date\n",
    "date_data_one = pd.to_datetime(date_data_one, format= \"%A %B %d, %Y\")\n",
    "print(date_data_one)"
   ]
  },
  {
   "cell_type": "code",
   "execution_count": 5,
   "metadata": {},
   "outputs": [
    {
     "name": "stdout",
     "output_type": "stream",
     "text": [
      "DatetimeIndex(['2017-01-01', '2016-05-03'], dtype='datetime64[ns]', freq=None)\n"
     ]
    }
   ],
   "source": [
    "date_data_two = ['2017-01-01', '2016-05-03']\n",
    "# Provide the correct format for the date\n",
    "date_data_two = pd.to_datetime(date_data_two, format=\"%Y-%m-%d\")\n",
    "print(date_data_two)"
   ]
  },
  {
   "cell_type": "code",
   "execution_count": 6,
   "metadata": {},
   "outputs": [
    {
     "name": "stdout",
     "output_type": "stream",
     "text": [
      "DatetimeIndex(['1978-08-17', '1976-01-07'], dtype='datetime64[ns]', freq=None)\n"
     ]
    }
   ],
   "source": [
    "date_data_three = ['08/17/1978', '01/07/1976']\n",
    "# Provide the correct format for the date\n",
    "date_data_three = pd.to_datetime(date_data_three, format=\"%m/%d/%Y\")\n",
    "print(date_data_three)"
   ]
  },
  {
   "cell_type": "code",
   "execution_count": 7,
   "metadata": {},
   "outputs": [
    {
     "name": "stdout",
     "output_type": "stream",
     "text": [
      "DatetimeIndex(['2016-03-01 01:56:00', '2016-01-04 02:16:00'], dtype='datetime64[ns]', freq=None)\n"
     ]
    }
   ],
   "source": [
    "date_data_four = ['2016 March 01 01:56', '2016 January 4 02:16']\n",
    "date_data_four = pd.to_datetime(date_data_four, format=\"%Y %B %d %H:%M\")\n",
    "print(date_data_four)"
   ]
  },
  {
   "cell_type": "markdown",
   "metadata": {},
   "source": [
    "**Time Series graphs**"
   ]
  },
  {
   "cell_type": "code",
   "execution_count": null,
   "metadata": {},
   "outputs": [],
   "source": [
    "# Group the data and aggregate first_week_purchases\n",
    "user_purchases = user_purchases.groupby(by=['reg_date', 'uid']).agg({'first_week_purchases': ['sum']})\n",
    "\n",
    "# Reset the indexes\n",
    "user_purchases.columns = user_purchases.columns.droplevel(level=1)\n",
    "user_purchases.reset_index(inplace=True)\n",
    "\n",
    "# Find the average number of purchases per day by first-week users\n",
    "user_purchases = user_purchases.groupby(by=['reg_date']).agg({'first_week_purchases': ['mean']})\n",
    "user_purchases.columns = user_purchases.columns.droplevel(level=1)\n",
    "user_purchases.reset_index(inplace=True)\n",
    "\n",
    "# Plot the results\n",
    "user_purchases.plot(x='reg_date', y='first_week_purchases')\n",
    "plt.show()\n",
    "\n",
    "# Pivot the data\n",
    "device_pivot = pd.pivot_table(user_purchases_device, values=['first_week_purchases'], columns=['device'], index=['reg_date'])\n",
    "print(device_pivot.head())"
   ]
  },
  {
   "cell_type": "code",
   "execution_count": null,
   "metadata": {},
   "outputs": [],
   "source": [
    "# Plot the average first week purchases for each country by registration date\n",
    "country_pivot.plot(x='reg_date', y=['USA', 'CAN', 'FRA', 'BRA', 'TUR', 'DEU'])\n",
    "plt.show()"
   ]
  },
  {
   "cell_type": "markdown",
   "metadata": {},
   "source": [
    "**Understanding and Visualizing Trends**\n",
    "\n",
    "- **Trailing Average:** smoothing technique that averages over **lagging window**\n",
    "    - Reveal hidden trends by smoothing out seasonality\n",
    "    - Average across the period of seasonality\n",
    "    - 7-day window to smooth weekly seasonality\n",
    "    - Average out day level effects to produce the average week effect"
   ]
  },
  {
   "cell_type": "code",
   "execution_count": null,
   "metadata": {},
   "outputs": [],
   "source": [
    "rolling_subs = usa_subscriptions.subs.rolling(\n",
    "                #How many data point to average over\n",
    "                window = 7,\n",
    "                #Specify to average backwards\n",
    "                center = False)\n",
    "\n",
    "usa_subscriptions['rolling_subs'] = rolling_subs.mean()\n",
    "\n",
    "usa_subscriptions.tail()"
   ]
  },
  {
   "cell_type": "markdown",
   "metadata": {},
   "source": [
    "**Noisy data - Highest SKU purchased by date**\n",
    "\n",
    "- Noisy Data: data with high variation over time\n"
   ]
  },
  {
   "cell_type": "code",
   "execution_count": null,
   "metadata": {},
   "outputs": [],
   "source": [
    "high_sku_purchases = pd.read_csv(\n",
    "                        'high_sku_purchases.csv',\n",
    "                        parse_dates = True,\n",
    "                        infer_datetime_format = True)\n",
    "\n",
    "#Calculate the exp. avg. over our high sku purchase count\n",
    "#Span: Window to apply weights over\n",
    "exp_mean = high_sku_purchases.purchases.ewm(span = 30)\n",
    "\n",
    "#Find the weighted mean over this period\n",
    "high_sku_purchases['exp_mean'] = exp_mean.mean()"
   ]
  },
  {
   "cell_type": "code",
   "execution_count": null,
   "metadata": {},
   "outputs": [],
   "source": [
    "# Compute 7_day_rev\n",
    "daily_revenue['7_day_rev'] = daily_revenue.revenue.rolling(window=7,center=False).mean()\n",
    "\n",
    "# Compute 28_day_rev\n",
    "daily_revenue['28_day_rev'] = daily_revenue.revenue.rolling(window=28,center=False).mean()\n",
    "    \n",
    "# Compute 365_day_rev\n",
    "daily_revenue['365_day_rev'] = daily_revenue.revenue.rolling(window=365,center=False).mean()\n",
    "    \n",
    "# Plot date, and revenue, along with the 3 rolling functions (in order)    \n",
    "daily_revenue.plot(x='date', y=['revenue', '7_day_rev', '28_day_rev', '365_day_rev', ])\n",
    "plt.show()"
   ]
  }
 ],
 "metadata": {
  "kernelspec": {
   "display_name": "Python 3",
   "language": "python",
   "name": "python3"
  },
  "language_info": {
   "codemirror_mode": {
    "name": "ipython",
    "version": 3
   },
   "file_extension": ".py",
   "mimetype": "text/x-python",
   "name": "python",
   "nbconvert_exporter": "python",
   "pygments_lexer": "ipython3",
   "version": "3.7.7"
  }
 },
 "nbformat": 4,
 "nbformat_minor": 4
}
