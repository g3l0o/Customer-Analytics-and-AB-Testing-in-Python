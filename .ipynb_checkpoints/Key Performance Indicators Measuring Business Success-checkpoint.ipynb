{
 "cells": [
  {
   "cell_type": "markdown",
   "metadata": {},
   "source": [
    "# Key Performance Indicators: Measuring Business Success\n",
    "\n",
    "## A/B Testing\n",
    "\n",
    "- **A/B Testing:** Test different ideas against each other in the real world\n",
    "- Choose the one that statistically performs better\n",
    "\n",
    "**Why A/B testing is important**\n",
    "- No guessing\n",
    "- Provides answers quickly\n",
    "\n",
    "**A/B Testing Process**\n",
    "1. Develop an hypothesis about your product or business\n",
    "2. **Randomly** assign users to two different groups\n",
    "3. Expose:\n",
    "    - Group 1 to the current product rules\n",
    "    - Group 2 to a product that test the hypothesis\n",
    "4. Pick whichever performs better according to a set of KPI's\n"
   ]
  },
  {
   "cell_type": "code",
   "execution_count": 9,
   "metadata": {},
   "outputs": [
    {
     "name": "stdout",
     "output_type": "stream",
     "text": [
      "Index(['uid', 'reg_date', 'device', 'gender', 'country', 'age'], dtype='object')\n",
      "Index(['date', 'uid', 'sku', 'price'], dtype='object')\n"
     ]
    }
   ],
   "source": [
    "import pandas as pd\n",
    "\n",
    "customer_data = pd.read_csv(\"./datasets/user_demographics_v1.csv\")\n",
    "app_purchases = pd.read_csv(\"./datasets/purchase_data_v1.csv\")\n",
    "\n",
    "\n",
    "print(customer_data.columns)\n",
    "print(app_purchases.columns)"
   ]
  },
  {
   "cell_type": "markdown",
   "metadata": {},
   "source": [
    "**Merging Mechanics**"
   ]
  },
  {
   "cell_type": "code",
   "execution_count": 11,
   "metadata": {},
   "outputs": [
    {
     "name": "stdout",
     "output_type": "stream",
     "text": [
      "         date       uid            sku  price              reg_date device  \\\n",
      "0  2017-07-10  41195147  sku_three_499    499  2017-06-26T00:00:00Z    and   \n",
      "1  2017-07-15  41195147  sku_three_499    499  2017-06-26T00:00:00Z    and   \n",
      "2  2017-11-12  41195147   sku_four_599    599  2017-06-26T00:00:00Z    and   \n",
      "3  2017-09-26  91591874    sku_two_299    299  2017-01-05T00:00:00Z    and   \n",
      "4  2017-12-01  91591874   sku_four_599    599  2017-01-05T00:00:00Z    and   \n",
      "\n",
      "  gender country  age  \n",
      "0      M     BRA   17  \n",
      "1      M     BRA   17  \n",
      "2      M     BRA   17  \n",
      "3      M     TUR   17  \n",
      "4      M     TUR   17  \n"
     ]
    }
   ],
   "source": [
    "uid_combined_data = app_purchases.merge(\n",
    "                    #right dataframe\n",
    "                    customer_data,\n",
    "                    #join type\n",
    "                    how = 'inner',\n",
    "                    #columns to match\n",
    "                    on = ['uid'])\n",
    "\n",
    "print(uid_combined_data.head())"
   ]
  },
  {
   "cell_type": "code",
   "execution_count": null,
   "metadata": {},
   "outputs": [],
   "source": [
    "uid_date_combined_data = app_purchases.merge(customer_data, on=['uid', 'date'], how = 'inner')\n",
    "\n",
    "print(uid_date_combined_data.head())"
   ]
  },
  {
   "cell_type": "code",
   "execution_count": 14,
   "metadata": {},
   "outputs": [
    {
     "name": "stdout",
     "output_type": "stream",
     "text": [
      "Index(['uid', 'reg_date', 'device', 'gender', 'country', 'age'], dtype='object')\n",
      "Index(['date', 'uid', 'sku', 'price'], dtype='object')\n"
     ]
    }
   ],
   "source": [
    "print(customer_data.columns)\n",
    "print(app_purchases.columns)"
   ]
  },
  {
   "cell_type": "markdown",
   "metadata": {},
   "source": [
    "**Group by**"
   ]
  },
  {
   "cell_type": "code",
   "execution_count": null,
   "metadata": {},
   "outputs": [],
   "source": [
    "sub_data_grp = sub_data_demo.groupby(by=['country', 'device'], axis = 0, as_index = False)\n",
    "\n",
    "sub_data_grp.price.mean()\n",
    "sub_data_grp.price.agg('mean')\n",
    "sub_data_grp.price.agg(['mean', 'median'])\n",
    "sub_data_grp.agg({'price': ['mean', 'min', 'max'],\n",
    "                  'age': ['mean', 'min', 'max']})\n",
    "sub_data_grp.agg({'price': [custom_function]})"
   ]
  },
  {
   "cell_type": "code",
   "execution_count": 19,
   "metadata": {},
   "outputs": [
    {
     "name": "stdout",
     "output_type": "stream",
     "text": [
      "406.77259604707973\n",
      "mean      406.772596\n",
      "median    299.000000\n",
      "Name: price, dtype: float64\n",
      "             price        age\n",
      "mean    406.772596  23.922274\n",
      "median  299.000000  21.000000\n"
     ]
    }
   ],
   "source": [
    "purchase_price_mean = uid_combined_data.price.agg('mean')\n",
    "\n",
    "print(purchase_price_mean)\n",
    "\n",
    "purchase_price_summary = uid_combined_data.price.agg(['mean', 'median'])\n",
    "\n",
    "print(purchase_price_summary)\n",
    "\n",
    "purchase_summary = uid_combined_data.agg({'price': ['mean', 'median'], 'age': ['mean', 'median']})\n",
    "\n",
    "print(purchase_summary)"
   ]
  },
  {
   "cell_type": "code",
   "execution_count": 21,
   "metadata": {},
   "outputs": [
    {
     "name": "stdout",
     "output_type": "stream",
     "text": [
      "                    price                   \n",
      "                     mean median         std\n",
      "device gender                               \n",
      "and    F       400.747504    299  179.984378\n",
      "       M       416.237308    499  195.001520\n",
      "iOS    F       404.435330    299  181.524952\n",
      "       M       405.272401    299  196.843197\n"
     ]
    }
   ],
   "source": [
    "purchase_data = uid_combined_data\n",
    "\n",
    "grouped_purchase_data = purchase_data.groupby(by = ['device', 'gender'])\n",
    "\n",
    "purchase_summary = grouped_purchase_data.agg({'price':['mean', 'median', 'std']})\n",
    "\n",
    "print(purchase_summary)"
   ]
  },
  {
   "cell_type": "code",
   "execution_count": null,
   "metadata": {},
   "outputs": [],
   "source": [
    "from pandas import Timestamp\n",
    "from datetime import timedelta\n",
    "current_date = Timestamp(2018,3,17)\n",
    "\n",
    "max_purchase_date = current_date - timedelta(days = 28)\n",
    "\n",
    "purchase_data['reg_date'] = pd.to_datetime(purchase_data['reg_date'])\n",
    "\n",
    "purchase_data_filt = purchase_data[purchase_data['reg_date'] < max_purchase_date]\n",
    "\n",
    "purchase_data_filt = purchase_data_filt[(purchase_data_filt.date <= purchase_data_filt.reg_date + timedelta(days = 28))]\n",
    "\n",
    "print(purchase_data_filt.price.mean())"
   ]
  }
 ],
 "metadata": {
  "kernelspec": {
   "display_name": "Python 3",
   "language": "python",
   "name": "python3"
  },
  "language_info": {
   "codemirror_mode": {
    "name": "ipython",
    "version": 3
   },
   "file_extension": ".py",
   "mimetype": "text/x-python",
   "name": "python",
   "nbconvert_exporter": "python",
   "pygments_lexer": "ipython3",
   "version": "3.7.7"
  }
 },
 "nbformat": 4,
 "nbformat_minor": 4
}
