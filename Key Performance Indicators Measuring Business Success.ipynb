{
 "cells": [
  {
   "cell_type": "markdown",
   "metadata": {},
   "source": [
    "# Key Performance Indicators: Measuring Business Success\n",
    "\n",
    "## A/B Testing\n",
    "\n",
    "- **A/B Testing:** Test different ideas against each other in the real world\n",
    "- Choose the one that statistically performs better\n",
    "\n",
    "**Why A/B testing is important**\n",
    "- No guessing\n",
    "- Provides answers quickly\n",
    "\n"
   ]
  }
 ],
 "metadata": {
  "kernelspec": {
   "display_name": "Python 3",
   "language": "python",
   "name": "python3"
  },
  "language_info": {
   "codemirror_mode": {
    "name": "ipython",
    "version": 3
   },
   "file_extension": ".py",
   "mimetype": "text/x-python",
   "name": "python",
   "nbconvert_exporter": "python",
   "pygments_lexer": "ipython3",
   "version": "3.7.7"
  }
 },
 "nbformat": 4,
 "nbformat_minor": 4
}
